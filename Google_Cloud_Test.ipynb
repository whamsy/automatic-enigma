{
 "cells": [
  {
   "cell_type": "code",
   "execution_count": 1,
   "metadata": {},
   "outputs": [],
   "source": [
    "from google.cloud import vision\n",
    "client = vision.ImageAnnotatorClient()"
   ]
  },
  {
   "cell_type": "code",
   "execution_count": 2,
   "metadata": {},
   "outputs": [],
   "source": [
    "import io\n",
    "import os"
   ]
  },
  {
   "cell_type": "code",
   "execution_count": 3,
   "metadata": {},
   "outputs": [],
   "source": [
    "def detect_text(path):\n",
    "    \"\"\"Detects text in the file.\"\"\"\n",
    "    \n",
    "    with io.open(path, 'rb') as image_file:\n",
    "        content = image_file.read()\n",
    "\n",
    "    image = vision.types.Image(content=content)\n",
    "\n",
    "    response = client.text_detection(image=image)\n",
    "    texts = response.text_annotations\n",
    "    print('Texts:')\n",
    "\n",
    "    for text in texts:\n",
    "        print('\\n\"{}\"'.format(text.description))"
   ]
  },
  {
   "cell_type": "code",
   "execution_count": 4,
   "metadata": {},
   "outputs": [],
   "source": [
    "pics_dir = os.listdir('./Documents/pics')"
   ]
  },
  {
   "cell_type": "code",
   "execution_count": 5,
   "metadata": {},
   "outputs": [
    {
     "data": {
      "text/plain": [
       "['2.jpg', '3.jpg', '1.jpg']"
      ]
     },
     "execution_count": 5,
     "metadata": {},
     "output_type": "execute_result"
    }
   ],
   "source": [
    "pics_dir"
   ]
  },
  {
   "cell_type": "code",
   "execution_count": 15,
   "metadata": {},
   "outputs": [],
   "source": [
    "from IPython.display import Image"
   ]
  },
  {
   "cell_type": "code",
   "execution_count": 16,
   "metadata": {},
   "outputs": [],
   "source": [
    "for i in pics_dir:\n",
    "    Image(filename=os.path.join(os.path.dirname('./Documents/pics/'),i)) "
   ]
  },
  {
   "cell_type": "code",
   "execution_count": null,
   "metadata": {},
   "outputs": [],
   "source": []
  },
  {
   "cell_type": "code",
   "execution_count": null,
   "metadata": {},
   "outputs": [],
   "source": []
  },
  {
   "cell_type": "code",
   "execution_count": 17,
   "metadata": {},
   "outputs": [
    {
     "name": "stdout",
     "output_type": "stream",
     "text": [
      "Text for ./Documents/pics/2.jpg\n",
      "Texts:\n",
      "\n",
      "\"Travolgente come Wilbur Smith,\n",
      "esplosivo come Clive Cussler\n",
      "Marco Butic\n",
      "d'artificio\n",
      "un romanzo\n",
      "pause\n",
      "di colpi di scena\n",
      "che non conced\n",
      "SUPER POCKET\n",
      "\"\n",
      "\n",
      "\"Travolgente\"\n",
      "\n",
      "\"come\"\n",
      "\n",
      "\"Wilbur\"\n",
      "\n",
      "\"Smith,\"\n",
      "\n",
      "\"esplosivo\"\n",
      "\n",
      "\"come\"\n",
      "\n",
      "\"Clive\"\n",
      "\n",
      "\"Cussler\"\n",
      "\n",
      "\"Marco\"\n",
      "\n",
      "\"Butic\"\n",
      "\n",
      "\"d'artificio\"\n",
      "\n",
      "\"un\"\n",
      "\n",
      "\"romanzo\"\n",
      "\n",
      "\"pause\"\n",
      "\n",
      "\"di\"\n",
      "\n",
      "\"colpi\"\n",
      "\n",
      "\"di\"\n",
      "\n",
      "\"scena\"\n",
      "\n",
      "\"che\"\n",
      "\n",
      "\"non\"\n",
      "\n",
      "\"conced\"\n",
      "\n",
      "\"SUPER\"\n",
      "\n",
      "\"POCKET\"\n",
      "Text for ./Documents/pics/3.jpg\n",
      "Texts:\n",
      "\n",
      "\"BORGES\n",
      "FINZION\n",
      "ALEP\n",
      "\"\n",
      "\n",
      "\"BORGES\"\n",
      "\n",
      "\"FINZION\"\n",
      "\n",
      "\"ALEP\"\n",
      "Text for ./Documents/pics/1.jpg\n",
      "Texts:\n",
      "\n",
      "\"TASCABILI\n",
      "BOMPIAN\n",
      "Woody Allen\n",
      "EFFETT\n",
      "COLLATERALI\n",
      "Una girandola di parodie\n",
      "\"\n",
      "\n",
      "\"TASCABILI\"\n",
      "\n",
      "\"BOMPIAN\"\n",
      "\n",
      "\"Woody\"\n",
      "\n",
      "\"Allen\"\n",
      "\n",
      "\"EFFETT\"\n",
      "\n",
      "\"COLLATERALI\"\n",
      "\n",
      "\"Una\"\n",
      "\n",
      "\"girandola\"\n",
      "\n",
      "\"di\"\n",
      "\n",
      "\"parodie\"\n"
     ]
    }
   ],
   "source": [
    "for i in pics_dir:\n",
    "    path = os.path.join(\n",
    "    os.path.dirname('./Documents/pics/'),\n",
    "    i)\n",
    "    print('Text for {}'.format(path))\n",
    "    detect_text(path)"
   ]
  },
  {
   "cell_type": "code",
   "execution_count": null,
   "metadata": {},
   "outputs": [],
   "source": []
  }
 ],
 "metadata": {
  "kernelspec": {
   "display_name": "Python 3",
   "language": "python",
   "name": "python3"
  },
  "language_info": {
   "codemirror_mode": {
    "name": "ipython",
    "version": 3
   },
   "file_extension": ".py",
   "mimetype": "text/x-python",
   "name": "python",
   "nbconvert_exporter": "python",
   "pygments_lexer": "ipython3",
   "version": "3.6.7"
  }
 },
 "nbformat": 4,
 "nbformat_minor": 2
}
